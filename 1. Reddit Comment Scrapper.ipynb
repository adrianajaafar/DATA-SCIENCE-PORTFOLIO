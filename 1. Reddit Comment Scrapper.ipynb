{
 "cells": [
  {
   "cell_type": "code",
   "execution_count": 6,
   "id": "c3044276",
   "metadata": {},
   "outputs": [
    {
     "name": "stdout",
     "output_type": "stream",
     "text": [
      "Combined data has been written to 'C:\\Users\\adria\\OneDrive\\Documents\\reddit_comments_combined.xlsx'\n"
     ]
    }
   ],
   "source": [
    "import praw\n",
    "import pandas as pd\n",
    "from urllib.parse import urlparse\n",
    "\n",
    "# Function to extract post ID from the URL\n",
    "def extract_post_id(url):\n",
    "    path = urlparse(url).path\n",
    "    return path.split('/')[4]\n",
    "\n",
    "# Initialize PRAW with your Reddit app credentials\n",
    "def fetch_comments(post_url, output_path):\n",
    "    reddit = praw.Reddit(\n",
    "        client_id=\"fYowxtbWbDueM9q_qXLP_g1\", #insert your client id from Reddit App\"\n",
    "        client_secret=\"IfEpaUgcf1DUDfYyb0q0id4C_nSRIg2\", #insert your client secret from Reddit App\"\n",
    "        user_agent=\"my-scrap by u/No-Delivery-80883\", #insert your Reddit username\"\n",
    "    )\n",
    "    \n",
    "    # Extract post ID from the URL\n",
    "    post_id = extract_post_id(post_url)\n",
    "    \n",
    "    # Fetch the post using PRAW\n",
    "    submission = reddit.submission(id=post_id)\n",
    "    \n",
    "    # List to hold all comments\n",
    "    all_comments = []\n",
    "    \n",
    "    # Fetch comments from the post\n",
    "    submission.comments.replace_more(limit=None)\n",
    "    for comment in submission.comments.list():\n",
    "        all_comments.append({\n",
    "            'Post ID': submission.id,\n",
    "            'Post Title': submission.title,\n",
    "            'Comment ID': comment.id,\n",
    "            'Comment Author': str(comment.author),\n",
    "            'Comment Score': comment.score,\n",
    "            'Comment Body': comment.body,\n",
    "            'Comment Created': comment.created_utc\n",
    "        })\n",
    "        \n",
    "    # Create DataFrame\n",
    "    comments_df = pd.DataFrame(all_comments)\n",
    "    return comments_df\n",
    "\n",
    "# URL of the specific Reddit posts\n",
    "post_urls = [\n",
    "    'https://www.reddit.com/r/WFH/comments/17i2fhi/are_you_guys_worried_that_ai_will_take_your_job/',\n",
    "    'https://www.reddit.com/r/UKJobs/comments/19ebmm1/is_anyone_concerned_about_the_impact_ai_might/',\n",
    "    'https://www.reddit.com/r/OpenAI/comments/1afv431/is_ai_causing_a_massive_wave_of_unemployment_now/',\n",
    "]\n",
    "\n",
    "output_paths = [\n",
    "    r'C:\\Users\\adria\\OneDrive\\Documents\\reddit_comments.xlsx',\n",
    "    r'C:\\Users\\adria\\OneDrive\\Documents\\reddit_comments2.xlsx',\n",
    "    r'C:\\Users\\adria\\OneDrive\\Documents\\reddit_comments3.xlsx',\n",
    "]\n",
    "\n",
    "# Create DataFrame\n",
    "all_comments_df = pd.DataFrame()\n",
    "\n",
    "# Write to Excel\n",
    "for post_url, output_path in zip(post_urls, output_paths):\n",
    "    comments_df = fetch_comments(post_url, output_path)\n",
    "    all_comments_df = pd.concat([all_comments_df, comments_df], ignore_index=True)\n",
    "combined_output_path = r'C:\\Users\\adria\\OneDrive\\Documents\\reddit_comments_combined.xlsx'\n",
    "with pd.ExcelWriter(combined_output_path) as writer:\n",
    "    all_comments_df.to_excel(writer, sheet_name='Comments', index=False)\n",
    "\n",
    "print(f\"Combined data has been written to '{combined_output_path}'\")"
   ]
  },
  {
   "cell_type": "code",
   "execution_count": null,
   "id": "ad90ade2",
   "metadata": {},
   "outputs": [],
   "source": []
  }
 ],
 "metadata": {
  "kernelspec": {
   "display_name": "Python 3 (ipykernel)",
   "language": "python",
   "name": "python3"
  },
  "language_info": {
   "codemirror_mode": {
    "name": "ipython",
    "version": 3
   },
   "file_extension": ".py",
   "mimetype": "text/x-python",
   "name": "python",
   "nbconvert_exporter": "python",
   "pygments_lexer": "ipython3",
   "version": "3.11.3"
  }
 },
 "nbformat": 4,
 "nbformat_minor": 5
}
